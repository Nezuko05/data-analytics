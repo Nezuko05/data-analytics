{
 "cells": [
  {
   "cell_type": "code",
   "execution_count": 1,
   "metadata": {},
   "outputs": [
    {
     "name": "stdout",
     "output_type": "stream",
     "text": [
      "B\n"
     ]
    }
   ],
   "source": [
    "marks=int(input(\"Enter your marks\"))\n",
    "if marks>=90:\n",
    "    print('A+')\n",
    "if marks>=75:\n",
    "    print('A')\n",
    "if marks>=60:\n",
    "    print('B')\n",
    "if marks<60:\n",
    "    print('Fail')\n"
   ]
  },
  {
   "cell_type": "code",
   "execution_count": 2,
   "metadata": {},
   "outputs": [
    {
     "name": "stdout",
     "output_type": "stream",
     "text": [
      "A\n"
     ]
    }
   ],
   "source": [
    "marks=int(input(\"Enter your marks\"))\n",
    "if marks>=90:\n",
    "    print('A+')\n",
    "elif marks>=75:\n",
    "    print('A')\n",
    "elif marks>=60:\n",
    "    print('B')\n",
    "elif marks<60:\n",
    "    print('Fail')\n",
    "else:\n",
    "    print(\"Invalid Marks\")    \n"
   ]
  },
  {
   "cell_type": "code",
   "execution_count": 3,
   "metadata": {},
   "outputs": [
    {
     "name": "stdout",
     "output_type": "stream",
     "text": [
      "Eligible to vote\n"
     ]
    }
   ],
   "source": [
    "age=22\n",
    "if age>=18:\n",
    "    print(\"Eligible to vote\")\n",
    "else:\n",
    "    print(\"Not elegible to vote\")\n",
    "        \n"
   ]
  },
  {
   "cell_type": "markdown",
   "metadata": {},
   "source": [
    "### to check whether a number is positive or not,\n",
    "to check whether a number is even or odd,\n",
    "to check whether the two line segments are equal or not,\n",
    "to check whether a triangle is equilateral,scalene or isosceles print message accordingly,\n",
    "to check whether a character entered by user is vowel or not,\n",
    " take a basic salary of an employee from user where TDA is 10% and HRA is 5%, Calculate the net salary of an employee\n",
    " calculate an area of a circle\n",
    " to check whether a number is a prime number\n",
    " to check whwther a number is pallindrome\n",
    " to check whether a number is an armstrong number\n",
    "\n",
    "\n"
   ]
  },
  {
   "cell_type": "code",
   "execution_count": 2,
   "metadata": {},
   "outputs": [
    {
     "name": "stdout",
     "output_type": "stream",
     "text": [
      "6\n",
      "number is positive\n"
     ]
    }
   ],
   "source": [
    "a=6\n",
    "print(a)\n",
    "if a>0:\n",
    "    print(\"number is positive\")\n",
    "else:\n",
    "    print(\"number is not negative\")    "
   ]
  },
  {
   "cell_type": "code",
   "execution_count": 3,
   "metadata": {},
   "outputs": [
    {
     "name": "stdout",
     "output_type": "stream",
     "text": [
      "20\n",
      "number is even\n"
     ]
    }
   ],
   "source": [
    "num=int(input(\"Enter a number\"))\n",
    "print(num)\n",
    "if num%2==0:\n",
    "    print(\"number is even\")\n",
    "else:\n",
    "    print(\"number is odd\")        "
   ]
  },
  {
   "cell_type": "code",
   "execution_count": 6,
   "metadata": {},
   "outputs": [
    {
     "name": "stdout",
     "output_type": "stream",
     "text": [
      "43\n",
      "67\n",
      "Line segments are not equal\n"
     ]
    }
   ],
   "source": [
    "line1=int(input(\"Enter length of line segment\"))\n",
    "line2=int(input(\"Enter length of line segment\"))\n",
    "print(line1)\n",
    "print(line2)\n",
    "if line1==line2:\n",
    "    print(\"Line segments are equal\")\n",
    "else:\n",
    "    print(\"Line segments are not equal\")    \n"
   ]
  },
  {
   "cell_type": "code",
   "execution_count": 13,
   "metadata": {},
   "outputs": [
    {
     "name": "stdout",
     "output_type": "stream",
     "text": [
      "34 34 34\n",
      "Triangle is Equilateral\n"
     ]
    }
   ],
   "source": [
    "p=34\n",
    "q=34\n",
    "r=34\n",
    "print(p,q,r)\n",
    "if p==q==r:\n",
    "    print(\"Triangle is Equilateral\")\n",
    "elif p==q or q==r or r==p:\n",
    "    print(\"Triangle is Isosceles\")\n",
    "else:\n",
    "    print(\"Triangle is Scalene\")    \n",
    "\n",
    "\n"
   ]
  },
  {
   "cell_type": "code",
   "execution_count": 15,
   "metadata": {},
   "outputs": [
    {
     "name": "stdout",
     "output_type": "stream",
     "text": [
      "character entered is not a vowel\n"
     ]
    }
   ],
   "source": [
    "Vowels=(\"a,e,i,o,u\")\n",
    "char=(input(\"Enter a character\"))\n",
    "if char==Vowels:\n",
    "    print(\"character is a vowel\")\n",
    "else:\n",
    "    print(\"character entered is not a vowel\") \n",
    "    \n"
   ]
  },
  {
   "cell_type": "code",
   "execution_count": null,
   "metadata": {},
   "outputs": [
    {
     "name": "stdout",
     "output_type": "stream",
     "text": [
      "12.56\n"
     ]
    }
   ],
   "source": [
    "r=2\n",
    "area=3.14*r*r\n",
    "print(area)\n",
    "\n"
   ]
  },
  {
   "cell_type": "code",
   "execution_count": null,
   "metadata": {},
   "outputs": [],
   "source": [
    "num=12\n"
   ]
  }
 ],
 "metadata": {
  "kernelspec": {
   "display_name": "base",
   "language": "python",
   "name": "python3"
  },
  "language_info": {
   "codemirror_mode": {
    "name": "ipython",
    "version": 3
   },
   "file_extension": ".py",
   "mimetype": "text/x-python",
   "name": "python",
   "nbconvert_exporter": "python",
   "pygments_lexer": "ipython3",
   "version": "3.12.9"
  }
 },
 "nbformat": 4,
 "nbformat_minor": 2
}
