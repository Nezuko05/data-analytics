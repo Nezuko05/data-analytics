{
 "cells": [
  {
   "cell_type": "code",
   "execution_count": 28,
   "id": "af05afa0",
   "metadata": {},
   "outputs": [],
   "source": [
    "from sqlalchemy import create_engine, Column,Integer,String\n",
    "from sqlalchemy.orm import sessionmaker,declarative_base"
   ]
  },
  {
   "cell_type": "markdown",
   "id": "589e5e68",
   "metadata": {},
   "source": [
    "- create_engine : it is used to make connection from database\n",
    "- column : it defines column in database\n",
    "- integer and string : datatype of values in database"
   ]
  },
  {
   "cell_type": "code",
   "execution_count": 29,
   "id": "6787cb74",
   "metadata": {},
   "outputs": [],
   "source": [
    "engine= create_engine(\"sqlite:///data.db\")"
   ]
  },
  {
   "cell_type": "code",
   "execution_count": 30,
   "id": "fe99be16",
   "metadata": {},
   "outputs": [],
   "source": [
    "Base= declarative_base()\n",
    "class User(Base):\n",
    "    __tablename__=\"users\"\n",
    "    id=Column(Integer,primary_key=True)\n",
    "    name=Column(String)\n",
    "    email=Column(String)\n",
    "    password=Column(String)"
   ]
  },
  {
   "cell_type": "code",
   "execution_count": 31,
   "id": "ee0aed68",
   "metadata": {},
   "outputs": [],
   "source": [
    "Base.metadata.create_all(engine)\n"
   ]
  },
  {
   "cell_type": "code",
   "execution_count": 32,
   "id": "cc1d5eda",
   "metadata": {},
   "outputs": [],
   "source": [
    "Session = sessionmaker(bind=engine)\n",
    "session=Session()"
   ]
  },
  {
   "cell_type": "code",
   "execution_count": 38,
   "id": "7a6b3ce7",
   "metadata": {},
   "outputs": [],
   "source": [
    "#add a new user\n",
    "new_user= User(name=\"Bob\",password= \"1234\")\n",
    "session.add(new_user)\n",
    "session.commit()"
   ]
  },
  {
   "cell_type": "code",
   "execution_count": 39,
   "id": "8f368a98",
   "metadata": {},
   "outputs": [],
   "source": [
    "#add a new user\n",
    "new_user= User(name=\"Smith\",password= \"4321\")\n",
    "session.add(new_user)\n",
    "session.commit()"
   ]
  },
  {
   "cell_type": "code",
   "execution_count": 42,
   "id": "1e53babb",
   "metadata": {},
   "outputs": [
    {
     "name": "stdout",
     "output_type": "stream",
     "text": [
      "ID: 1,Name: Bob,Email:None,Password:1234\n",
      "ID: 2,Name: Smith,Email:None,Password:4321\n",
      "ID: 3,Name: Bob,Email:None,Password:1234\n",
      "ID: 4,Name: Smith,Email:None,Password:4321\n"
     ]
    }
   ],
   "source": [
    "#retrieve all data\n",
    "users=session.query(User).all()\n",
    "for x in users:\n",
    "    print(f\"ID: {x.id},Name: {x.name},Email:{x.email},Password:{x.password}\")"
   ]
  },
  {
   "cell_type": "code",
   "execution_count": 43,
   "id": "9abb9bf4",
   "metadata": {},
   "outputs": [],
   "source": [
    "user=session.query(User).filter_by(name=\"Bob\").first()\n",
    "user.name=\"Robert\"\n",
    "session.commit()"
   ]
  },
  {
   "cell_type": "code",
   "execution_count": 44,
   "id": "a5ce2059",
   "metadata": {},
   "outputs": [
    {
     "name": "stdout",
     "output_type": "stream",
     "text": [
      "ID: 1,Name: Robert,Email:None,Password:1234\n",
      "ID: 2,Name: Smith,Email:None,Password:4321\n",
      "ID: 3,Name: Bob,Email:None,Password:1234\n",
      "ID: 4,Name: Smith,Email:None,Password:4321\n"
     ]
    }
   ],
   "source": [
    "users=session.query(User).all()\n",
    "for x in users:\n",
    "    print(f\"ID: {x.id},Name: {x.name},Email:{x.email},Password:{x.password}\")\n",
    "    "
   ]
  },
  {
   "cell_type": "code",
   "execution_count": 50,
   "id": "fc2b02bf",
   "metadata": {},
   "outputs": [
    {
     "ename": "UnmappedInstanceError",
     "evalue": "Class 'builtins.NoneType' is not mapped",
     "output_type": "error",
     "traceback": [
      "\u001b[1;31m---------------------------------------------------------------------------\u001b[0m",
      "\u001b[1;31mAttributeError\u001b[0m                            Traceback (most recent call last)",
      "File \u001b[1;32mc:\\Users\\DELL\\miniconda3\\Lib\\site-packages\\sqlalchemy\\orm\\session.py:3538\u001b[0m, in \u001b[0;36mSession.delete\u001b[1;34m(self, instance)\u001b[0m\n\u001b[0;32m   3537\u001b[0m \u001b[38;5;28;01mtry\u001b[39;00m:\n\u001b[1;32m-> 3538\u001b[0m     state \u001b[38;5;241m=\u001b[39m \u001b[43mattributes\u001b[49m\u001b[38;5;241;43m.\u001b[39;49m\u001b[43minstance_state\u001b[49m\u001b[43m(\u001b[49m\u001b[43minstance\u001b[49m\u001b[43m)\u001b[49m\n\u001b[0;32m   3539\u001b[0m \u001b[38;5;28;01mexcept\u001b[39;00m exc\u001b[38;5;241m.\u001b[39mNO_STATE \u001b[38;5;28;01mas\u001b[39;00m err:\n",
      "\u001b[1;31mAttributeError\u001b[0m: 'NoneType' object has no attribute '_sa_instance_state'",
      "\nThe above exception was the direct cause of the following exception:\n",
      "\u001b[1;31mUnmappedInstanceError\u001b[0m                     Traceback (most recent call last)",
      "Cell \u001b[1;32mIn[50], line 3\u001b[0m\n\u001b[0;32m      1\u001b[0m \u001b[38;5;66;03m#delete data\u001b[39;00m\n\u001b[0;32m      2\u001b[0m users\u001b[38;5;241m=\u001b[39msession\u001b[38;5;241m.\u001b[39mquery(User)\u001b[38;5;241m.\u001b[39mfilter_by(\u001b[38;5;28mid\u001b[39m\u001b[38;5;241m=\u001b[39m\u001b[38;5;241m1\u001b[39m)\u001b[38;5;241m.\u001b[39mfirst()\n\u001b[1;32m----> 3\u001b[0m \u001b[43msession\u001b[49m\u001b[38;5;241;43m.\u001b[39;49m\u001b[43mdelete\u001b[49m\u001b[43m(\u001b[49m\u001b[43musers\u001b[49m\u001b[43m)\u001b[49m\n\u001b[0;32m      4\u001b[0m session\u001b[38;5;241m.\u001b[39mcommit()\n",
      "File \u001b[1;32mc:\\Users\\DELL\\miniconda3\\Lib\\site-packages\\sqlalchemy\\orm\\session.py:3540\u001b[0m, in \u001b[0;36mSession.delete\u001b[1;34m(self, instance)\u001b[0m\n\u001b[0;32m   3538\u001b[0m     state \u001b[38;5;241m=\u001b[39m attributes\u001b[38;5;241m.\u001b[39minstance_state(instance)\n\u001b[0;32m   3539\u001b[0m \u001b[38;5;28;01mexcept\u001b[39;00m exc\u001b[38;5;241m.\u001b[39mNO_STATE \u001b[38;5;28;01mas\u001b[39;00m err:\n\u001b[1;32m-> 3540\u001b[0m     \u001b[38;5;28;01mraise\u001b[39;00m exc\u001b[38;5;241m.\u001b[39mUnmappedInstanceError(instance) \u001b[38;5;28;01mfrom\u001b[39;00m \u001b[38;5;21;01merr\u001b[39;00m\n\u001b[0;32m   3542\u001b[0m \u001b[38;5;28mself\u001b[39m\u001b[38;5;241m.\u001b[39m_delete_impl(state, instance, head\u001b[38;5;241m=\u001b[39m\u001b[38;5;28;01mTrue\u001b[39;00m)\n",
      "\u001b[1;31mUnmappedInstanceError\u001b[0m: Class 'builtins.NoneType' is not mapped"
     ]
    }
   ],
   "source": [
    "#delete data\n",
    "users=session.query(User).filter_by(id=1).first()\n",
    "session.delete(users)\n",
    "session.commit()"
   ]
  }
 ],
 "metadata": {
  "kernelspec": {
   "display_name": "base",
   "language": "python",
   "name": "python3"
  },
  "language_info": {
   "codemirror_mode": {
    "name": "ipython",
    "version": 3
   },
   "file_extension": ".py",
   "mimetype": "text/x-python",
   "name": "python",
   "nbconvert_exporter": "python",
   "pygments_lexer": "ipython3",
   "version": "3.12.9"
  }
 },
 "nbformat": 4,
 "nbformat_minor": 5
}
