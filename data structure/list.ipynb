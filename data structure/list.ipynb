{
 "cells": [
  {
   "cell_type": "code",
   "execution_count": 14,
   "metadata": {},
   "outputs": [
    {
     "name": "stdout",
     "output_type": "stream",
     "text": [
      "ola\n",
      "facebook\n",
      "['google', 'whatsapp', 'facebook', 'ola', 'swiggy']\n",
      "['google', 'facebook', 'swiggy']\n",
      "['whatsapp', 'facebook', 'ola', 'swiggy', 'zoom']\n",
      "['drive', 'google', 'whatsapp', 'facebook', 'ola']\n",
      "['drive', 'google', 'whatsapp', 'facebook', 'ola', 'swiggy', 'zoom']\n"
     ]
    }
   ],
   "source": [
    "apps=[\"drive\",\"google\",\"whatsapp\",\"facebook\",\"ola\",\"swiggy\",\"zoom\"]\n",
    "print(apps[4])\n",
    "print(apps[-4])\n",
    "print(apps[1:6])\n",
    "print(apps[1:9:2])\n",
    "print(apps[2:])\n",
    "print(apps[:5])\n",
    "print(apps[:])"
   ]
  },
  {
   "cell_type": "markdown",
   "metadata": {},
   "source": [
    "List Methods\n",
    "\n",
    "-append - to add an element at the end of the list\n",
    "-insert - to add an element at any specific position in the list\n",
    "-pop - to delete an item using index position of the element\n",
    "-remove - to delete an item using its name\n",
    "-copy - to make a copy of the list\n",
    "-sort - to sort items in any particular order\n",
    "-extend - to combine two list in one list\n",
    "-reverse - to reverse the order of the list\n",
    "-clear - to remove all items of the list but not the list"
   ]
  },
  {
   "cell_type": "code",
   "execution_count": 15,
   "metadata": {},
   "outputs": [
    {
     "name": "stdout",
     "output_type": "stream",
     "text": [
      "['drive', 'google', 'whatsapp', 'facebook', 'ola', 'swiggy', 'zoom', 'Snapchat']\n"
     ]
    }
   ],
   "source": [
    "apps.append(\"Snapchat\")\n",
    "print(apps)"
   ]
  },
  {
   "cell_type": "code",
   "execution_count": 16,
   "metadata": {},
   "outputs": [
    {
     "name": "stdout",
     "output_type": "stream",
     "text": [
      "['drive', 'google', 'whatsapp', 'tinder', 'facebook', 'ola', 'swiggy', 'zoom', 'Snapchat']\n"
     ]
    }
   ],
   "source": [
    "apps.insert(3,\"tinder\")\n",
    "print(apps)"
   ]
  },
  {
   "cell_type": "code",
   "execution_count": 17,
   "metadata": {},
   "outputs": [
    {
     "name": "stdout",
     "output_type": "stream",
     "text": [
      "['drive', 'google', 'whatsapp', 'tinder', 'facebook', 'swiggy', 'zoom', 'Snapchat']\n"
     ]
    }
   ],
   "source": [
    "apps.pop(5)\n",
    "print(apps)"
   ]
  },
  {
   "cell_type": "code",
   "execution_count": 18,
   "metadata": {},
   "outputs": [
    {
     "name": "stdout",
     "output_type": "stream",
     "text": [
      "['drive', 'google', 'whatsapp', 'facebook', 'swiggy', 'zoom', 'Snapchat']\n"
     ]
    }
   ],
   "source": [
    "apps.remove(\"tinder\")\n",
    "print(apps)"
   ]
  },
  {
   "cell_type": "code",
   "execution_count": 19,
   "metadata": {},
   "outputs": [
    {
     "name": "stdout",
     "output_type": "stream",
     "text": [
      "['drive', 'google', 'whatsapp', 'facebook', 'swiggy', 'zoom', 'Snapchat']\n"
     ]
    }
   ],
   "source": [
    "x= apps.copy()\n",
    "print(x)"
   ]
  },
  {
   "cell_type": "code",
   "execution_count": 20,
   "metadata": {},
   "outputs": [
    {
     "name": "stdout",
     "output_type": "stream",
     "text": [
      "[]\n"
     ]
    }
   ],
   "source": [
    "x.clear()\n",
    "print(x)"
   ]
  },
  {
   "cell_type": "code",
   "execution_count": 21,
   "metadata": {},
   "outputs": [
    {
     "name": "stdout",
     "output_type": "stream",
     "text": [
      "['drive', 'google', 'whatsapp', 'facebook', 'swiggy', 'zoom', 'Snapchat']\n"
     ]
    }
   ],
   "source": [
    "print(apps)"
   ]
  },
  {
   "cell_type": "markdown",
   "metadata": {},
   "source": [
    "it sorts default ascending to order\n",
    "for descending to ascending rev the list"
   ]
  },
  {
   "cell_type": "code",
   "execution_count": 22,
   "metadata": {},
   "outputs": [
    {
     "name": "stdout",
     "output_type": "stream",
     "text": [
      "['Snapchat', 'drive', 'facebook', 'google', 'swiggy', 'whatsapp', 'zoom']\n"
     ]
    }
   ],
   "source": [
    "apps.sort()\n",
    "print(apps)"
   ]
  },
  {
   "cell_type": "code",
   "execution_count": 23,
   "metadata": {},
   "outputs": [
    {
     "name": "stdout",
     "output_type": "stream",
     "text": [
      "['Snapchat', 'drive', 'facebook', 'google', 'swiggy', 'whatsapp', 'zoom']\n"
     ]
    }
   ],
   "source": [
    "apps.reverse\n",
    "print(apps)"
   ]
  },
  {
   "cell_type": "code",
   "execution_count": 27,
   "metadata": {},
   "outputs": [
    {
     "name": "stdout",
     "output_type": "stream",
     "text": [
      "[1, 2, 3, 4, 5, 'Snapchat', 'drive', 'facebook', 'google', 'swiggy', 'whatsapp', 'zoom', 1, 2, 3, 4, 5]\n"
     ]
    }
   ],
   "source": [
    "apps2=[1,2,3,4,5]\n",
    "apps2.extend(apps)\n",
    "print(apps2)"
   ]
  }
 ],
 "metadata": {
  "kernelspec": {
   "display_name": "base",
   "language": "python",
   "name": "python3"
  },
  "language_info": {
   "codemirror_mode": {
    "name": "ipython",
    "version": 3
   },
   "file_extension": ".py",
   "mimetype": "text/x-python",
   "name": "python",
   "nbconvert_exporter": "python",
   "pygments_lexer": "ipython3",
   "version": "3.12.9"
  }
 },
 "nbformat": 4,
 "nbformat_minor": 2
}
