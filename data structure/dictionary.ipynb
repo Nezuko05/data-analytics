{
 "cells": [
  {
   "cell_type": "markdown",
   "metadata": {},
   "source": [
    "- different ways to create dictionary\n",
    "- to access keys and values\n",
    "- to add new pair\n",
    "- loops in dictionary\n",
    "- nested dictionary"
   ]
  },
  {
   "cell_type": "code",
   "execution_count": 3,
   "metadata": {},
   "outputs": [
    {
     "name": "stdout",
     "output_type": "stream",
     "text": [
      "{'name': 'john', 'age=': 25, 'course': 'python', 'marks': 80}\n"
     ]
    }
   ],
   "source": [
    "student={\n",
    "    \"name\":\"john\",\n",
    "    \"age=\" :25,\n",
    "    \"course\" :\"python\",\n",
    "    \"marks\" : 80\n",
    "}\n",
    "print(student)"
   ]
  },
  {
   "cell_type": "code",
   "execution_count": 4,
   "metadata": {},
   "outputs": [
    {
     "name": "stdout",
     "output_type": "stream",
     "text": [
      "{'name': 'john', 'age': 25, 'course': 'python', 'marks': 80}\n"
     ]
    }
   ],
   "source": [
    "info=dict(name=\"john\",age=25,course=\"python\",marks=80)\n",
    "print(info)"
   ]
  },
  {
   "cell_type": "markdown",
   "metadata": {},
   "source": [
    "For user input in dictionary\n"
   ]
  },
  {
   "cell_type": "code",
   "execution_count": 5,
   "metadata": {},
   "outputs": [
    {
     "name": "stdout",
     "output_type": "stream",
     "text": [
      "{'name': 'john', 'age': 25, 'course': '', 'marks': 80}\n"
     ]
    }
   ],
   "source": [
    "student={\n",
    "    \"name\":\"john\",\n",
    "    \"age\" :25,\n",
    "    \"course\" :input(\"enter the course\"),\n",
    "    \"marks\" : 80\n",
    "}\n",
    "print(student)"
   ]
  },
  {
   "cell_type": "code",
   "execution_count": 6,
   "metadata": {},
   "outputs": [
    {
     "name": "stdout",
     "output_type": "stream",
     "text": [
      "{'name': 'john', 'age': 25, 'course': 'huigyg', 'marks': 80}\n"
     ]
    }
   ],
   "source": [
    "info=dict(name=\"john\",age=25,course=input(\"enter a course\"),marks=80)\n",
    "print(info)"
   ]
  },
  {
   "cell_type": "code",
   "execution_count": 7,
   "metadata": {},
   "outputs": [
    {
     "name": "stdout",
     "output_type": "stream",
     "text": [
      "{'lucknow': [25, 35, 28], 'delhi': [30, 40, 50], 'chennai': [35, 40, 34]}\n"
     ]
    }
   ],
   "source": [
    "temp={\n",
    "    \"lucknow\" : [25,35,28],\n",
    "    \"delhi\" :[30,40,50],\n",
    "    \"chennai\" :[35,40,34]\n",
    "\n",
    "\n",
    "}\n",
    "print(temp)"
   ]
  },
  {
   "cell_type": "code",
   "execution_count": 8,
   "metadata": {},
   "outputs": [
    {
     "name": "stdout",
     "output_type": "stream",
     "text": [
      "john\n"
     ]
    }
   ],
   "source": [
    "#1st method to access the value\n",
    "\n",
    "print(student[\"name\"])"
   ]
  },
  {
   "cell_type": "code",
   "execution_count": 9,
   "metadata": {},
   "outputs": [
    {
     "data": {
      "text/plain": [
       "'john'"
      ]
     },
     "execution_count": 9,
     "metadata": {},
     "output_type": "execute_result"
    }
   ],
   "source": [
    "#2nd method to access the value\n",
    "\n",
    "student.get(\"name\")\n"
   ]
  },
  {
   "cell_type": "code",
   "execution_count": 10,
   "metadata": {},
   "outputs": [
    {
     "name": "stdout",
     "output_type": "stream",
     "text": [
      "{'name': 'john', 'age': 25, 'course': '', 'marks': 80, 'city': 'lucknow'}\n"
     ]
    }
   ],
   "source": [
    "student[\"city\"]=\"lucknow\"\n",
    "print(student)"
   ]
  },
  {
   "cell_type": "code",
   "execution_count": 11,
   "metadata": {},
   "outputs": [
    {
     "data": {
      "text/plain": [
       "dict_keys(['name', 'age', 'course', 'marks', 'city'])"
      ]
     },
     "execution_count": 11,
     "metadata": {},
     "output_type": "execute_result"
    }
   ],
   "source": [
    "student.keys()"
   ]
  },
  {
   "cell_type": "code",
   "execution_count": 12,
   "metadata": {},
   "outputs": [
    {
     "data": {
      "text/plain": [
       "dict_values(['john', 25, '', 80, 'lucknow'])"
      ]
     },
     "execution_count": 12,
     "metadata": {},
     "output_type": "execute_result"
    }
   ],
   "source": [
    "student.values()"
   ]
  },
  {
   "cell_type": "code",
   "execution_count": 13,
   "metadata": {},
   "outputs": [
    {
     "data": {
      "text/plain": [
       "dict_items([('name', 'john'), ('age', 25), ('course', ''), ('marks', 80), ('city', 'lucknow')])"
      ]
     },
     "execution_count": 13,
     "metadata": {},
     "output_type": "execute_result"
    }
   ],
   "source": [
    "student.items()"
   ]
  },
  {
   "cell_type": "code",
   "execution_count": 14,
   "metadata": {},
   "outputs": [
    {
     "name": "stdout",
     "output_type": "stream",
     "text": [
      "Sum: 50\n",
      "sum of 20 and 30 is 50\n",
      "sum of 20 and 30 is s\n"
     ]
    }
   ],
   "source": [
    "a=20\n",
    "b=30\n",
    "s=a+b\n",
    "print(\"Sum:\",s)\n",
    "print(\"sum of\",a,\"and\",b,\"is\",s)\n",
    "print(f\"sum of {a} and {b} is s\")"
   ]
  },
  {
   "cell_type": "code",
   "execution_count": 15,
   "metadata": {},
   "outputs": [
    {
     "name": "stdout",
     "output_type": "stream",
     "text": [
      "name:john\n",
      "age:25\n",
      "course:\n",
      "marks:80\n",
      "city:lucknow\n"
     ]
    }
   ],
   "source": [
    "for k,v  in student.items():\n",
    "    print(f\"{k}:{v}\")\n",
    "\n"
   ]
  },
  {
   "cell_type": "code",
   "execution_count": 20,
   "metadata": {},
   "outputs": [
    {
     "name": "stdout",
     "output_type": "stream",
     "text": [
      "{'emp001': {'name': 'john', 'age': 25, 'dept': 'HR', 'salary': 30000}, 'emp002': {'name': 'smith', 'age': 26, 'dept': 'IT', 'salary': 40000}, 'emp003': {'name': 'peter', 'age': 28, 'dept': 'Admin', 'salary': 40000}}\n",
      "40000\n"
     ]
    }
   ],
   "source": [
    "company={\n",
    "    \"emp001\" :{\n",
    "        \"name\" :\"john\",\n",
    "        \"age\":25,\n",
    "        \"dept\" : \"HR\",\n",
    "        \"salary\" : 30000\n",
    "    },\n",
    "    \"emp002\" : {\n",
    "        \"name\" :\"smith\",\n",
    "        \"age\" : 26,\n",
    "        \"dept\" : \"IT\",\n",
    "        \"salary\" : 40000\n",
    "    },\n",
    "    \"emp003\" :{\n",
    "        \"name\" :\"peter\",\n",
    "        \"age\" : 28,\n",
    "        \"dept\" : \"Admin\",\n",
    "        \"salary\" : 40000\n",
    "    }    \n",
    "}\n",
    "print(company)\n",
    "print(company[\"emp002\"][\"salary\"])\n",
    "\n",
    "\n",
    "\n"
   ]
  },
  {
   "cell_type": "code",
   "execution_count": 21,
   "metadata": {},
   "outputs": [
    {
     "name": "stdout",
     "output_type": "stream",
     "text": [
      "40.0\n"
     ]
    }
   ],
   "source": [
    "print(sum(temp[\"delhi\"])/len(temp[\"delhi\"]))"
   ]
  }
 ],
 "metadata": {
  "kernelspec": {
   "display_name": "base",
   "language": "python",
   "name": "python3"
  },
  "language_info": {
   "codemirror_mode": {
    "name": "ipython",
    "version": 3
   },
   "file_extension": ".py",
   "mimetype": "text/x-python",
   "name": "python",
   "nbconvert_exporter": "python",
   "pygments_lexer": "ipython3",
   "version": "3.12.9"
  }
 },
 "nbformat": 4,
 "nbformat_minor": 2
}
